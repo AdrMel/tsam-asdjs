{
 "metadata": {
  "name": ""
 },
 "nbformat": 3,
 "nbformat_minor": 0,
 "worksheets": [
  {
   "cells": [
    {
     "cell_type": "heading",
     "level": 1,
     "metadata": {},
     "source": [
      "# Esercizio 1"
     ]
    },
    {
     "cell_type": "code",
     "collapsed": false,
     "input": [
      "a = [1, 5, 6, 3, -5, 8];"
     ],
     "language": "python",
     "metadata": {},
     "outputs": [
      {
       "metadata": {},
       "output_type": "pyout",
       "prompt_number": 1,
       "text": [
        "[ 1, 5, 6, 3, -5, 8 ]"
       ]
      }
     ],
     "prompt_number": 1
    },
    {
     "cell_type": "code",
     "collapsed": false,
     "input": [
      "function sum(array){\n",
      "  tot = 0;\n",
      "    for(i = 0; i < array.length; i++){\n",
      "        if(array[i] < 0){\n",
      "            return tot;\n",
      "        } else {\n",
      "            tot += array[i];\n",
      "            }\n",
      "     }\n",
      "  return tot;\n",
      "}"
     ],
     "language": "python",
     "metadata": {},
     "outputs": [
      {
       "metadata": {},
       "output_type": "pyout",
       "prompt_number": 2,
       "text": [
        "undefined"
       ]
      }
     ],
     "prompt_number": 2
    },
    {
     "cell_type": "code",
     "collapsed": false,
     "input": [
      "sum(a);"
     ],
     "language": "python",
     "metadata": {},
     "outputs": [
      {
       "metadata": {},
       "output_type": "pyout",
       "prompt_number": 3,
       "text": [
        "15"
       ]
      }
     ],
     "prompt_number": 3
    },
    {
     "cell_type": "code",
     "collapsed": false,
     "input": [
      "function sumR(array){\n",
      "  if(array[0] <= 0){\n",
      "    return 0;\n",
      "   } else {\n",
      "        return array[0] + sumR(array.slice(1));\n",
      "        }\n",
      "  }"
     ],
     "language": "python",
     "metadata": {},
     "outputs": [
      {
       "metadata": {},
       "output_type": "pyout",
       "prompt_number": 4,
       "text": [
        "undefined"
       ]
      }
     ],
     "prompt_number": 4
    },
    {
     "cell_type": "code",
     "collapsed": false,
     "input": [
      "sumR(a);"
     ],
     "language": "python",
     "metadata": {},
     "outputs": [
      {
       "metadata": {},
       "output_type": "pyout",
       "prompt_number": 5,
       "text": [
        "15"
       ]
      }
     ],
     "prompt_number": 5
    },
    {
     "cell_type": "heading",
     "level": 3,
     "metadata": {},
     "source": [
      "Complessit\u00e0: O(n)"
     ]
    },
    {
     "cell_type": "markdown",
     "metadata": {},
     "source": [
      "# Esercizio 2"
     ]
    },
    {
     "cell_type": "code",
     "collapsed": false,
     "input": [
      "function sumDispari(n){\n",
      "  tot = 0;\n",
      "  cont = 1;\n",
      "    for(i = 0; i < n; i++){\n",
      "        tot += cont;\n",
      "        cont += 2;\n",
      "        }\n",
      "  return tot;\n",
      "}"
     ],
     "language": "python",
     "metadata": {},
     "outputs": [
      {
       "metadata": {},
       "output_type": "pyout",
       "prompt_number": 6,
       "text": [
        "undefined"
       ]
      }
     ],
     "prompt_number": 6
    },
    {
     "cell_type": "code",
     "collapsed": false,
     "input": [
      "sumDispari(4);"
     ],
     "language": "python",
     "metadata": {},
     "outputs": [
      {
       "metadata": {},
       "output_type": "pyout",
       "prompt_number": 7,
       "text": [
        "16"
       ]
      }
     ],
     "prompt_number": 7
    },
    {
     "cell_type": "code",
     "collapsed": false,
     "input": [
      "function sumDispariR(n){\n",
      "    return sumDispariRC(n, 1, 0, 0);\n",
      "}"
     ],
     "language": "python",
     "metadata": {},
     "outputs": [
      {
       "metadata": {},
       "output_type": "pyout",
       "prompt_number": 8,
       "text": [
        "undefined"
       ]
      }
     ],
     "prompt_number": 8
    },
    {
     "cell_type": "code",
     "collapsed": false,
     "input": [
      "function sumDispariRC(n, cont, tot, acc){\n",
      "    if(acc >= n){\n",
      "        return tot;\n",
      "     } else {\n",
      "        tot += cont;\n",
      "        cont += 2;\n",
      "        acc++;\n",
      "        return sumDispariRC(n, cont, tot, acc);\n",
      "        }\n",
      "   } "
     ],
     "language": "python",
     "metadata": {},
     "outputs": [
      {
       "metadata": {},
       "output_type": "pyout",
       "prompt_number": 9,
       "text": [
        "undefined"
       ]
      }
     ],
     "prompt_number": 9
    },
    {
     "cell_type": "code",
     "collapsed": false,
     "input": [
      "sumDispariR(4);"
     ],
     "language": "python",
     "metadata": {},
     "outputs": [
      {
       "metadata": {},
       "output_type": "pyout",
       "prompt_number": 10,
       "text": [
        "16"
       ]
      }
     ],
     "prompt_number": 10
    },
    {
     "cell_type": "markdown",
     "metadata": {},
     "source": [
      "### Complessit\u00e0 O(n)"
     ]
    },
    {
     "cell_type": "markdown",
     "metadata": {},
     "source": [
      "#Esercizio 3"
     ]
    },
    {
     "cell_type": "code",
     "collapsed": false,
     "input": [
      "function avg(array){\n",
      "  tot = 0;\n",
      "    for(i = 0; i < array.length; i++){\n",
      "        tot += array[i];\n",
      "     }\n",
      "  return tot / array.length;\n",
      "}"
     ],
     "language": "python",
     "metadata": {},
     "outputs": [
      {
       "metadata": {},
       "output_type": "pyout",
       "prompt_number": 11,
       "text": [
        "undefined"
       ]
      }
     ],
     "prompt_number": 11
    },
    {
     "cell_type": "code",
     "collapsed": false,
     "input": [
      "arr = [4, 7, 1, 5, 3];"
     ],
     "language": "python",
     "metadata": {},
     "outputs": [
      {
       "metadata": {},
       "output_type": "pyout",
       "prompt_number": 12,
       "text": [
        "[ 4, 7, 1, 5, 3 ]"
       ]
      }
     ],
     "prompt_number": 12
    },
    {
     "cell_type": "code",
     "collapsed": false,
     "input": [
      "avg(arr);"
     ],
     "language": "python",
     "metadata": {},
     "outputs": [
      {
       "metadata": {},
       "output_type": "pyout",
       "prompt_number": 13,
       "text": [
        "4"
       ]
      }
     ],
     "prompt_number": 13
    },
    {
     "cell_type": "code",
     "collapsed": false,
     "input": [
      "function avgR(array){\n",
      "    return avgRC(array, 2, 0);\n",
      "}"
     ],
     "language": "python",
     "metadata": {},
     "outputs": [
      {
       "metadata": {},
       "output_type": "pyout",
       "prompt_number": 14,
       "text": [
        "undefined"
       ]
      }
     ],
     "prompt_number": 14
    },
    {
     "cell_type": "code",
     "collapsed": false,
     "input": [
      "function avgRC(array, acc, somma){\n",
      "    if(array[0] == 0){\n",
      "        return (somma / acc);\n",
      "     } else {\n",
      "         somma += array[0];\n",
      "         acc++;\n",
      "         return avgRC(array.slice(1), acc, somma);\n",
      "        }\n",
      "    }"
     ],
     "language": "python",
     "metadata": {},
     "outputs": [
      {
       "metadata": {},
       "output_type": "pyout",
       "prompt_number": 35,
       "text": [
        "undefined"
       ]
      }
     ],
     "prompt_number": 35
    },
    {
     "cell_type": "code",
     "collapsed": false,
     "input": [
      "avgR(arr);"
     ],
     "language": "python",
     "metadata": {},
     "outputs": [
      {
       "ename": "RangeError",
       "evalue": "Maximum call stack size exceeded",
       "output_type": "pyerr",
       "traceback": ""
      }
     ],
     "prompt_number": 36
    },
    {
     "cell_type": "markdown",
     "metadata": {},
     "source": [
      "### Complessit\u00e0 O(n)"
     ]
    },
    {
     "cell_type": "markdown",
     "metadata": {},
     "source": [
      "# Esercizio 4"
     ]
    },
    {
     "cell_type": "code",
     "collapsed": false,
     "input": [
      "function sumInterv(a, b){\n",
      "  tot = 0;\n",
      "    if(a >= b){\n",
      "            for(i = b; i <= a; i++){\n",
      "                tot += i;\n",
      "            }\n",
      "     } else {\n",
      "        for(j = a; j <= b; j++){\n",
      "                tot += j;\n",
      "        }\n",
      "    }\n",
      "  return tot;\n",
      "}"
     ],
     "language": "python",
     "metadata": {},
     "outputs": [
      {
       "metadata": {},
       "output_type": "pyout",
       "prompt_number": 17,
       "text": [
        "undefined"
       ]
      }
     ],
     "prompt_number": 17
    },
    {
     "cell_type": "code",
     "collapsed": false,
     "input": [
      "sumInterv(3,5);"
     ],
     "language": "python",
     "metadata": {},
     "outputs": [
      {
       "metadata": {},
       "output_type": "pyout",
       "prompt_number": 18,
       "text": [
        "12"
       ]
      }
     ],
     "prompt_number": 18
    },
    {
     "cell_type": "code",
     "collapsed": false,
     "input": [
      "sumInterv(5,3);"
     ],
     "language": "python",
     "metadata": {},
     "outputs": [
      {
       "metadata": {},
       "output_type": "pyout",
       "prompt_number": 19,
       "text": [
        "12"
       ]
      }
     ],
     "prompt_number": 19
    },
    {
     "cell_type": "code",
     "collapsed": false,
     "input": [
      "sumInterv(5,5);"
     ],
     "language": "python",
     "metadata": {},
     "outputs": [
      {
       "metadata": {},
       "output_type": "pyout",
       "prompt_number": 20,
       "text": [
        "5"
       ]
      }
     ],
     "prompt_number": 20
    },
    {
     "cell_type": "code",
     "collapsed": false,
     "input": [
      "function sumIntervR(a, b){\n",
      "    if(a > b){\n",
      "        return sumIntervRC(a, b, 0);\n",
      "     } else {\n",
      "        return sumIntervRC(b, a, 0);\n",
      "        }\n",
      "    }"
     ],
     "language": "python",
     "metadata": {},
     "outputs": [
      {
       "metadata": {},
       "output_type": "pyout",
       "prompt_number": 21,
       "text": [
        "undefined"
       ]
      }
     ],
     "prompt_number": 21
    },
    {
     "cell_type": "code",
     "collapsed": false,
     "input": [
      "function sumIntervRC(n, acc, tot){\n",
      "    if(acc > n){\n",
      "        return tot;\n",
      "     } else {\n",
      "        tot += acc;\n",
      "        acc++;\n",
      "        return sumIntervRC(n, acc, tot);\n",
      "       }\n",
      "    }"
     ],
     "language": "python",
     "metadata": {},
     "outputs": [
      {
       "metadata": {},
       "output_type": "pyout",
       "prompt_number": 22,
       "text": [
        "undefined"
       ]
      }
     ],
     "prompt_number": 22
    },
    {
     "cell_type": "code",
     "collapsed": false,
     "input": [
      "sumIntervR(3, 5);"
     ],
     "language": "python",
     "metadata": {},
     "outputs": [
      {
       "metadata": {},
       "output_type": "pyout",
       "prompt_number": 23,
       "text": [
        "12"
       ]
      }
     ],
     "prompt_number": 23
    },
    {
     "cell_type": "code",
     "collapsed": false,
     "input": [
      "sumIntervR(1, 6);"
     ],
     "language": "python",
     "metadata": {},
     "outputs": [
      {
       "metadata": {},
       "output_type": "pyout",
       "prompt_number": 24,
       "text": [
        "21"
       ]
      }
     ],
     "prompt_number": 24
    },
    {
     "cell_type": "markdown",
     "metadata": {},
     "source": [
      "### Complessit\u00e0 O(n)"
     ]
    },
    {
     "cell_type": "markdown",
     "metadata": {},
     "source": [
      "# Esercizio 5"
     ]
    },
    {
     "cell_type": "code",
     "collapsed": false,
     "input": [
      "function mult(a, b){\n",
      "  tot = 0;\n",
      "        for(i = 0; i < b; i++){\n",
      "            tot += a;\n",
      "            }  \n",
      "  return tot;\n",
      "}"
     ],
     "language": "python",
     "metadata": {},
     "outputs": [
      {
       "metadata": {},
       "output_type": "pyout",
       "prompt_number": 37,
       "text": [
        "undefined"
       ]
      }
     ],
     "prompt_number": 37
    },
    {
     "cell_type": "code",
     "collapsed": false,
     "input": [
      "mult(5,3);"
     ],
     "language": "python",
     "metadata": {},
     "outputs": [
      {
       "metadata": {},
       "output_type": "pyout",
       "prompt_number": 38,
       "text": [
        "15"
       ]
      }
     ],
     "prompt_number": 38
    },
    {
     "cell_type": "code",
     "collapsed": false,
     "input": [
      "function multR(a, b){\n",
      "    return multRC(a, b, 0, 0);\n",
      "}"
     ],
     "language": "python",
     "metadata": {},
     "outputs": [
      {
       "metadata": {},
       "output_type": "pyout",
       "prompt_number": 39,
       "text": [
        "undefined"
       ]
      }
     ],
     "prompt_number": 39
    },
    {
     "cell_type": "code",
     "collapsed": false,
     "input": [
      "function multRC(a, b, acc, tot){\n",
      "    if(acc == b){\n",
      "        return tot;\n",
      "    } else {\n",
      "        tot += a;\n",
      "        acc++;\n",
      "        return multRC(a, b, acc, tot);\n",
      "    }\n",
      "}"
     ],
     "language": "python",
     "metadata": {},
     "outputs": [
      {
       "metadata": {},
       "output_type": "pyout",
       "prompt_number": 40,
       "text": [
        "undefined"
       ]
      }
     ],
     "prompt_number": 40
    },
    {
     "cell_type": "code",
     "collapsed": false,
     "input": [
      "multR(5,3);"
     ],
     "language": "python",
     "metadata": {},
     "outputs": [
      {
       "metadata": {},
       "output_type": "pyout",
       "prompt_number": 41,
       "text": [
        "15"
       ]
      }
     ],
     "prompt_number": 41
    },
    {
     "cell_type": "markdown",
     "metadata": {},
     "source": [
      "### Complessit\u00e0 O(n)"
     ]
    },
    {
     "cell_type": "markdown",
     "metadata": {},
     "source": [
      "# Esercizio 6"
     ]
    },
    {
     "cell_type": "code",
     "collapsed": false,
     "input": [
      "function div(a, b){\n",
      "  r = 0;\n",
      "  cont = 0;\n",
      "  divid = a;\n",
      "  divis = b;\n",
      "    do{\n",
      "     cont++;\n",
      "     divid = divid - divis;\n",
      "         if(divid < 0) {\n",
      "            divid = 0; \n",
      "          }\n",
      "    }while(divid >= divis);\n",
      "        if(divis > divid){\n",
      "            r = divid;\n",
      "        }\n",
      "    \n",
      "  return cont + ' resto ' + r;  \n",
      "}        "
     ],
     "language": "python",
     "metadata": {},
     "outputs": [
      {
       "metadata": {},
       "output_type": "pyout",
       "prompt_number": 42,
       "text": [
        "undefined"
       ]
      }
     ],
     "prompt_number": 42
    },
    {
     "cell_type": "code",
     "collapsed": false,
     "input": [
      "div(12, 3);"
     ],
     "language": "python",
     "metadata": {},
     "outputs": [
      {
       "metadata": {},
       "output_type": "pyout",
       "prompt_number": 43,
       "text": [
        "'4 resto 0'"
       ]
      }
     ],
     "prompt_number": 43
    },
    {
     "cell_type": "code",
     "collapsed": false,
     "input": [
      "function divR(a, b){\n",
      "    return divRC(a, b, 0, 0);\n",
      "}"
     ],
     "language": "python",
     "metadata": {},
     "outputs": [
      {
       "metadata": {},
       "output_type": "pyout",
       "prompt_number": 44,
       "text": [
        "undefined"
       ]
      }
     ],
     "prompt_number": 44
    },
    {
     "cell_type": "code",
     "collapsed": false,
     "input": [
      "function divRC(divid, divis, acc, r){\n",
      "    if(divid >= divis){\n",
      "        return acc + ' resto ' + r;\n",
      "      } else {\n",
      "        acc++;\n",
      "        divid = divid - divis;\n",
      "            if(divid < 0){\n",
      "                divid = 0;\n",
      "              }\n",
      "            if(divis > divid){\n",
      "                r = divid;\n",
      "            }\n",
      "        return divRC(divid, divis, acc, r);\n",
      "    }\n",
      "}"
     ],
     "language": "python",
     "metadata": {},
     "outputs": [
      {
       "metadata": {},
       "output_type": "pyout",
       "prompt_number": 45,
       "text": [
        "undefined"
       ]
      }
     ],
     "prompt_number": 45
    },
    {
     "cell_type": "code",
     "collapsed": false,
     "input": [
      "divR(12, 3);"
     ],
     "language": "python",
     "metadata": {},
     "outputs": [
      {
       "metadata": {},
       "output_type": "pyout",
       "prompt_number": 34,
       "text": [
        "'0 resto 0'"
       ]
      }
     ],
     "prompt_number": 34
    },
    {
     "cell_type": "markdown",
     "metadata": {},
     "source": [
      "# Esercizio 7"
     ]
    },
    {
     "cell_type": "code",
     "collapsed": false,
     "input": [
      "function pow(x, y){\n",
      "  tot = 1;\n",
      "    for(var i = 0; i < y; i++){\n",
      "       tot = mult(tot, x);\n",
      "    }\n",
      "  return tot;\n",
      "}"
     ],
     "language": "python",
     "metadata": {},
     "outputs": [
      {
       "metadata": {},
       "output_type": "pyout",
       "prompt_number": 53,
       "text": [
        "undefined"
       ]
      }
     ],
     "prompt_number": 53
    },
    {
     "cell_type": "code",
     "collapsed": false,
     "input": [
      "pow(2,3);"
     ],
     "language": "python",
     "metadata": {},
     "outputs": [
      {
       "metadata": {},
       "output_type": "pyout",
       "prompt_number": 54,
       "text": [
        "8"
       ]
      }
     ],
     "prompt_number": 54
    },
    {
     "cell_type": "code",
     "collapsed": false,
     "input": [
      "pow(3, 4);"
     ],
     "language": "python",
     "metadata": {},
     "outputs": [
      {
       "metadata": {},
       "output_type": "pyout",
       "prompt_number": 56,
       "text": [
        "81"
       ]
      }
     ],
     "prompt_number": 56
    },
    {
     "cell_type": "code",
     "collapsed": false,
     "input": [
      "function powR(x, y){\n",
      "    if(y == 0){\n",
      "        return 1;\n",
      "     } else {\n",
      "        return x + powR(mult(x, (y - 1)));\n",
      "        }\n",
      "}"
     ],
     "language": "python",
     "metadata": {},
     "outputs": [
      {
       "metadata": {},
       "output_type": "pyout",
       "prompt_number": 19,
       "text": [
        "undefined"
       ]
      }
     ],
     "prompt_number": 19
    },
    {
     "cell_type": "code",
     "collapsed": false,
     "input": [
      "powR(2, 3);"
     ],
     "language": "python",
     "metadata": {},
     "outputs": [
      {
       "ename": "RangeError",
       "evalue": "Maximum call stack size exceeded",
       "output_type": "pyerr",
       "traceback": ""
      }
     ],
     "prompt_number": 20
    },
    {
     "cell_type": "markdown",
     "metadata": {},
     "source": [
      "# Esercizio 8"
     ]
    },
    {
     "cell_type": "code",
     "collapsed": false,
     "input": [
      "function creaArray(n){\n",
      "    newArray[n*n] = [];\n",
      "    for(i = 0; i < newArray.length; i++){\n",
      "        newArray[i] = i;\n",
      "      }\n",
      "    return newArray;\n",
      "}"
     ],
     "language": "python",
     "metadata": {},
     "outputs": [
      {
       "metadata": {},
       "output_type": "pyout",
       "prompt_number": 2,
       "text": [
        "undefined"
       ]
      }
     ],
     "prompt_number": 2
    },
    {
     "cell_type": "code",
     "collapsed": false,
     "input": [
      "function matr(array){\n",
      "  matrice = [][];\n",
      "    for(i = 0; i < n; i++){\n",
      "        matrice[i][] = i;\n",
      "            for(j = 0; j < n; j++){\n",
      "                matrice[i][j];\n",
      "              }\n",
      "        }\n",
      "    return matrice;\n",
      "}"
     ],
     "language": "python",
     "metadata": {},
     "outputs": [
      {
       "ename": "SyntaxError",
       "evalue": "Unexpected token ]",
       "output_type": "pyerr",
       "traceback": [
        "SyntaxError: Unexpected token ]",
        "    at run ([eval]:192:19)",
        "    at onMessage ([eval]:63:41)",
        "    at process.EventEmitter.emit (events.js:98:17)",
        "    at handleMessage (child_process.js:318:10)",
        "    at Pipe.channel.onread (child_process.js:345:11)"
       ]
      }
     ],
     "prompt_number": 19
    },
    {
     "cell_type": "markdown",
     "metadata": {},
     "source": [
      "# Esercizio 9"
     ]
    },
    {
     "cell_type": "code",
     "collapsed": false,
     "input": [
      "function invert(array){\n",
      "    yarra = [];\n",
      "    c = 0;\n",
      "        for(i = array.length - 1; i >= 0; i--){\n",
      "            yarra[c] = array[i];\n",
      "            c++;\n",
      "        }\n",
      "    return yarra;\n",
      "}"
     ],
     "language": "python",
     "metadata": {},
     "outputs": [
      {
       "metadata": {},
       "output_type": "pyout",
       "prompt_number": 42,
       "text": [
        "undefined"
       ]
      }
     ],
     "prompt_number": 42
    },
    {
     "cell_type": "code",
     "collapsed": false,
     "input": [
      "invert([1,5,7,9,6]);"
     ],
     "language": "python",
     "metadata": {},
     "outputs": [
      {
       "metadata": {},
       "output_type": "pyout",
       "prompt_number": 43,
       "text": [
        "[ 6, 9, 7, 5, 1 ]"
       ]
      }
     ],
     "prompt_number": 43
    },
    {
     "cell_type": "code",
     "collapsed": false,
     "input": [
      "function invertR(array){\n",
      "    if(array[0] == 0){\n",
      "        return yarra;\n",
      "     } else { \n",
      "        return yarra[] = invertR(array.slice(1));\n",
      "        }\n",
      "}"
     ],
     "language": "python",
     "metadata": {},
     "outputs": [
      {
       "ename": "SyntaxError",
       "evalue": "Unexpected token ]",
       "output_type": "pyerr",
       "traceback": [
        "SyntaxError: Unexpected token ]",
        "    at run ([eval]:192:19)",
        "    at onMessage ([eval]:63:41)",
        "    at process.EventEmitter.emit (events.js:98:17)",
        "    at handleMessage (child_process.js:318:10)",
        "    at Pipe.channel.onread (child_process.js:345:11)"
       ]
      }
     ],
     "prompt_number": 23
    },
    {
     "cell_type": "markdown",
     "metadata": {},
     "source": [
      "# Esercizio 10"
     ]
    },
    {
     "cell_type": "code",
     "collapsed": false,
     "input": [
      "function creaArr(a, n){\n",
      "  array = [];\n",
      "    if(a > 0 && n > 0){\n",
      "        for(i = 0; i < n; i++){\n",
      "            array[i] = a;\n",
      "         }\n",
      "    }\n",
      "    return array;\n",
      "}"
     ],
     "language": "python",
     "metadata": {},
     "outputs": [
      {
       "metadata": {},
       "output_type": "pyout",
       "prompt_number": 46,
       "text": [
        "undefined"
       ]
      }
     ],
     "prompt_number": 46
    },
    {
     "cell_type": "code",
     "collapsed": false,
     "input": [
      "creaArr(3, 10);"
     ],
     "language": "python",
     "metadata": {},
     "outputs": [
      {
       "metadata": {},
       "output_type": "pyout",
       "prompt_number": 47,
       "text": [
        "[ 3, 3, 3, 3, 3, 3, 3, 3, 3, 3 ]"
       ]
      }
     ],
     "prompt_number": 47
    },
    {
     "cell_type": "code",
     "collapsed": false,
     "input": [
      "function creaArrR(a, n){\n",
      "    return creaArrRC(a, n, 0);\n",
      "}\n",
      "\n",
      "\n",
      "function creaArrRC(a, n, acc){\n",
      "  array = [];\n",
      "    if(n.length == 1){\n",
      "        return array;\n",
      "    } else {\n",
      "        acc++;\n",
      "        return creaArrR(a, n - 1) + acc;\n",
      "    }\n",
      "}"
     ],
     "language": "python",
     "metadata": {},
     "outputs": [
      {
       "metadata": {},
       "output_type": "pyout",
       "prompt_number": 48,
       "text": [
        "undefined"
       ]
      }
     ],
     "prompt_number": 48
    },
    {
     "cell_type": "code",
     "collapsed": false,
     "input": [
      "creaArr(3, 1);"
     ],
     "language": "python",
     "metadata": {},
     "outputs": [
      {
       "metadata": {},
       "output_type": "pyout",
       "prompt_number": 49,
       "text": [
        "[ 3 ]"
       ]
      }
     ],
     "prompt_number": 49
    },
    {
     "cell_type": "code",
     "collapsed": false,
     "input": [
      "creaArr(3, 5);"
     ],
     "language": "python",
     "metadata": {},
     "outputs": [
      {
       "metadata": {},
       "output_type": "pyout",
       "prompt_number": 50,
       "text": [
        "[ 3, 3, 3, 3, 3 ]"
       ]
      }
     ],
     "prompt_number": 50
    },
    {
     "cell_type": "markdown",
     "metadata": {},
     "source": [
      "# Esercizio 11"
     ]
    },
    {
     "cell_type": "code",
     "collapsed": false,
     "input": [
      "function firstOdds(array){\n",
      "    odd = [];\n",
      "    even = [];\n",
      "    disp = 0;\n",
      "    pari = 0;\n",
      "        for(i = 0; i < array.length; i++){\n",
      "            if(array[i] % 2 == 0){\n",
      "                even[pari] = array[i];\n",
      "                pari++;\n",
      "            } else {\n",
      "                odd[disp] = array[i];\n",
      "                disp++;\n",
      "                }\n",
      "         }\n",
      "    return odd.concat(even);\n",
      "}"
     ],
     "language": "python",
     "metadata": {},
     "outputs": [
      {
       "metadata": {},
       "output_type": "pyout",
       "prompt_number": 20,
       "text": [
        "undefined"
       ]
      }
     ],
     "prompt_number": 20
    },
    {
     "cell_type": "code",
     "collapsed": false,
     "input": [
      "firstOdds([3,6,8,2,3,4,1]);"
     ],
     "language": "python",
     "metadata": {},
     "outputs": [
      {
       "metadata": {},
       "output_type": "pyout",
       "prompt_number": 21,
       "text": [
        "[ 3, 3, 1, 6, 8, 2, 4 ]"
       ]
      }
     ],
     "prompt_number": 21
    },
    {
     "cell_type": "code",
     "collapsed": false,
     "input": [
      "firstOdds([2, 5, 1, 8]);"
     ],
     "language": "python",
     "metadata": {},
     "outputs": [
      {
       "metadata": {},
       "output_type": "pyout",
       "prompt_number": 22,
       "text": [
        "[ 5, 1, 2, 8 ]"
       ]
      }
     ],
     "prompt_number": 22
    },
    {
     "cell_type": "code",
     "collapsed": false,
     "input": [
      "function firstOddsR(array){\n",
      "    return firsOddsRC(array, "
     ],
     "language": "python",
     "metadata": {},
     "outputs": []
    }
   ],
   "metadata": {}
  }
 ]
}